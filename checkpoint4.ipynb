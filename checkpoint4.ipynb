{
 "cells": [
  {
   "cell_type": "markdown",
   "id": "214c6003",
   "metadata": {},
   "source": [
    "# Q1"
   ]
  },
  {
   "cell_type": "code",
   "execution_count": 2,
   "id": "4b199367",
   "metadata": {},
   "outputs": [
    {
     "data": {
      "text/plain": [
       "189263"
      ]
     },
     "execution_count": 2,
     "metadata": {},
     "output_type": "execute_result"
    }
   ],
   "source": [
    "def maximum(a, b, c):\n",
    "    if a>=b and b>=c:\n",
    "        return(a)\n",
    "    elif b>=c and c>=a:\n",
    "        return(b)\n",
    "    else:\n",
    "        return(c)\n",
    "maxi = maximum(189263,63912, 8639)\n",
    "maxi"
   ]
  },
  {
   "cell_type": "markdown",
   "id": "b1f93d60",
   "metadata": {},
   "source": [
    "# Q2"
   ]
  },
  {
   "cell_type": "code",
   "execution_count": 8,
   "id": "feb9d35d",
   "metadata": {},
   "outputs": [
    {
     "data": {
      "text/plain": [
       "(30, -10)"
      ]
     },
     "execution_count": 8,
     "metadata": {},
     "output_type": "execute_result"
    }
   ],
   "source": [
    "def calculation(a, b):\n",
    "    return a+b, a-b\n",
    "calc = calculation(10, 20)\n",
    "calc"
   ]
  },
  {
   "cell_type": "markdown",
   "id": "db2128da",
   "metadata": {},
   "source": [
    "# Q3(1)"
   ]
  },
  {
   "cell_type": "code",
   "execution_count": 19,
   "id": "e5225fd7",
   "metadata": {},
   "outputs": [
    {
     "data": {
      "text/plain": [
       "111"
      ]
     },
     "execution_count": 19,
     "metadata": {},
     "output_type": "execute_result"
    }
   ],
   "source": [
    "def sumlist(liste):\n",
    "    s = 0\n",
    "    for i in range (len(liste)):\n",
    "        s = liste[i] + s\n",
    "    return s\n",
    "s = sumlist([45, 46, 20])\n",
    "s"
   ]
  },
  {
   "cell_type": "markdown",
   "id": "539f1d32",
   "metadata": {},
   "source": [
    "# Q3(2)"
   ]
  },
  {
   "cell_type": "code",
   "execution_count": 20,
   "id": "43c1f7b4",
   "metadata": {},
   "outputs": [
    {
     "data": {
      "text/plain": [
       "41400"
      ]
     },
     "execution_count": 20,
     "metadata": {},
     "output_type": "execute_result"
    }
   ],
   "source": [
    "def prodlist(liste):\n",
    "    p = 1\n",
    "    for i in range (len(liste)):\n",
    "        p = liste[i] * p\n",
    "    return p\n",
    "p = prodlist([45, 46, 20])\n",
    "p"
   ]
  },
  {
   "cell_type": "markdown",
   "id": "21f8b890",
   "metadata": {},
   "source": [
    "# Q3(3)"
   ]
  },
  {
   "cell_type": "code",
   "execution_count": 27,
   "id": "269579b0",
   "metadata": {},
   "outputs": [
    {
     "data": {
      "text/plain": [
       "(99, 4600)"
      ]
     },
     "execution_count": 27,
     "metadata": {},
     "output_type": "execute_result"
    }
   ],
   "source": [
    "def thirdfct(liste):\n",
    "    pair = []\n",
    "    impair = []\n",
    "    for i in range (len(liste)):\n",
    "        if i%2 == 0:\n",
    "            pair.append (liste[i])\n",
    "        else:\n",
    "            impair.append (liste[i])\n",
    "    return sumlist(pair), prodlist(impair)\n",
    "t = thirdfct([45, 46, 20, 100, 34])\n",
    "t"
   ]
  },
  {
   "cell_type": "markdown",
   "id": "0ffddd5a",
   "metadata": {},
   "source": [
    "# Q4"
   ]
  },
  {
   "cell_type": "code",
   "execution_count": 49,
   "id": "bfe3c74d",
   "metadata": {},
   "outputs": [
    {
     "name": "stdout",
     "output_type": "stream",
     "text": [
      "Entrez des mots séparés par un trait d'union :-fdv-d-vds-vw-vbf-g\n"
     ]
    },
    {
     "data": {
      "text/plain": [
       "'-d-fdv-g-vbf-vds-vw'"
      ]
     },
     "execution_count": 49,
     "metadata": {},
     "output_type": "execute_result"
    }
   ],
   "source": [
    "def hyphensort(str):\n",
    "    str = input(\"Entrez des mots séparés par un trait d'union :\").split('-')\n",
    "    str.sort()\n",
    "    return '-'.join(str)\n",
    "hyphensort(str)"
   ]
  },
  {
   "cell_type": "markdown",
   "id": "5eb86391",
   "metadata": {},
   "source": [
    "# Q5"
   ]
  },
  {
   "cell_type": "code",
   "execution_count": null,
   "id": "f34e3916",
   "metadata": {},
   "outputs": [],
   "source": [
    "import math\n",
    "def formule():\n",
    "    D = input(\"Entrez 3 valeurs de D séparées par une virgule : \").split(',')\n",
    "    s = []\n",
    "    for i in D:\n",
    "        Q = round(math.sqrt((2*50*int(i)/30)))\n",
    "        s.append(Q)\n",
    "    return s\n",
    "formule()"
   ]
  },
  {
   "cell_type": "code",
   "execution_count": null,
   "id": "d2162ff4",
   "metadata": {},
   "outputs": [],
   "source": []
  }
 ],
 "metadata": {
  "kernelspec": {
   "display_name": "Python 3 (ipykernel)",
   "language": "python",
   "name": "python3"
  },
  "language_info": {
   "codemirror_mode": {
    "name": "ipython",
    "version": 3
   },
   "file_extension": ".py",
   "mimetype": "text/x-python",
   "name": "python",
   "nbconvert_exporter": "python",
   "pygments_lexer": "ipython3",
   "version": "3.9.12"
  }
 },
 "nbformat": 4,
 "nbformat_minor": 5
}
